{
  "cells": [
    {
      "cell_type": "markdown",
      "metadata": {
        "id": "view-in-github",
        "colab_type": "text"
      },
      "source": [
        "<a href=\"https://colab.research.google.com/github/haiderareeb/Learn-Basics-of-AI/blob/main/ExcersiceSolutions.ipynb\" target=\"_parent\"><img src=\"https://colab.research.google.com/assets/colab-badge.svg\" alt=\"Open In Colab\"/></a>"
      ]
    },
    {
      "cell_type": "markdown",
      "metadata": {
        "id": "3t8GcSIjGGUC"
      },
      "source": [
        "1) How would u define ML?\n",
        "> ML is about building systems that can learn from data. Learning means getting better at some task, given some performance measure.\n",
        "\n",
        "2) Can u name 4 types of applications where it shines?\n",
        "> ML is great for complex problems for which we have no algorithmic solution, to replace long lists of hand-tuned rules, to build systems that adapt to fluctuating environments, and finally to help humans learn(e.g. data mining).\n",
        "\n",
        "3) What is a labeled training set?\n",
        "> it contains the desired solution(a.k.a a label) for each instance.\n",
        "\n",
        "4) What r the 2 most common supervised tasks?\n",
        "> regression and classification.\n",
        "\n",
        "5) Can u name 4 common unsupervised tasks?\n",
        "> Clustering, Dimensionality reduction, Visulaization and association rule learning.\n",
        "\n",
        "6) what type of algo would u use to allow a robot to walk in various unknown terrains?\n",
        "> Reinforcement learning is likely to perform best if we want a robot to learn to walk in various unknowns terrains, since this is typically the type of problem that RL tackles. It might be possible to express the problem as a supervised or semi-supervised learning problem, but it would be less natural.\n",
        "\n",
        "7) What type of algo would u use to segment your customers into multiple groups?\n",
        "> If u don't know how to define the groups, then u can use a clustering algo(unsupervised learning) to segment your customers into clusters of similar customers.\n",
        "However, if u know what groups u  would like to have, then u can feed many examples of each group to a classification algorithm(supervised learning), and it will classify all your customers into these groups.\n",
        "\n",
        "8) Would you frame the problem of spam detection as a supervised learning problem or an unsupervised learning problem?\n",
        "> supervised learning problem: the algorithm is fed many emails along with their labels(spam or ham).\n",
        "\n",
        "9) What is an online learning system?\n",
        ">  it can learn incrementally, as opposed to a batch learning system. This makes it capable of adapting rapidly to both changing data and autonomous systems, and of training on very large quantities of data.\n",
        "\n",
        "10) What is an out-of-core learning?\n",
        "> it can handle vast quantities of data that cannot fit in a computer's main memory. An out-of-core learning algorithm chops the data into mini-batches and uses online learning techniques to learn from these mini-batches.\n",
        "\n",
        "11) What type of algo relies on a similarity measure to make predictions?\n",
        "> An Instance-based learning systems learns the training data by heart, then when given a new instamce, it uses a similarity measure to find the most similar learned instances and uses them to make predictions.\n",
        "\n",
        "12) What is the difference between a model parameter and a model hyperparameter?\n",
        "> A model has 1/more model parameters that determine what it will predict given a new instance(e.g. the slope of a linear model). A learning algorithm tries to find the optimal values for these parameters such that the model generalizes well to new instances. A hyperparameter is a parameter of the learning algorithm itself, not of the model(e.g. the amount of regularization to apply).\n",
        "\n",
        "13) What do model-based algos search for? What is the most common strategy they use to succeed? How do they make preds?\n",
        "> Model-Based learning algorithms search for an optimal value for the model parameters such that the model will generalize well to new instances. We usually train such systems by minimizing a cost function that measure how bad the system is at making predictions on the training data, plus a penalty for the model complexity if the model is regularized. To make predictions, we feed the new instance's features into the model's prediction function, using the parameter values found by the learning algorithm.\n",
        "\n",
        "14) Can u name 4 of the main challenges in ML?\n",
        "> Lack of data, Poor data quality, non-representative data, uninformative features, excessively simple models that underfit the training data, and excessively complex models that overfit the data.\n",
        "\n",
        "15) if your model performs great on the training data but generalizes poorly to new instances, what is happening? Can u name 3 possible solutions?\n",
        "> If a model performs great on the training data but generalizes poorly to new instances, the model is likely overfitting the training data(or we got extremely lucky on the training data). Possible Solutions to overfitting are getting more data, simplifying the model(selecting a simpler algorithm, reducing the number of parameters or features used, or regularizing the model), or reducing the noise in the training data.\n",
        "\n",
        "16) What is a test set, and why would u want to use it?\n",
        "> used to estimate generalization error that a model will make on new instances, before the model is launched in production.\n",
        "\n",
        "17) What is the purpose of a validation set?\n",
        "> used to compare models. It makes it possible to select the best model and tune the hyperparameters.\n",
        "\n",
        "18) What is the train-dev set, when do u need it, & how do u use it?\n",
        "> Used when there is a risk of mis-match between the training data and the data used in the validation and test datasets(which should always be as close as possible to the data used once the model is in production). The train-dev set is a part of the training set, and evaluated on both  the train-dev set and the validation set. If the model performs well on the training set but not on the train-dev set, then the model is likely overfitting the training set. If it performs well on both the training set and the train-dev set, but not on the validation set, then there is probably a significant mismatch between the training data and the validation set, then there is probably a significant data mismatch between the training data and the validation + test data, and u should try to improve the training data to make it look more like the validation + test data.\n",
        "\n",
        "19) What can go wrong if u tune hyperparameters using the test set?\n",
        "> if u tune hyperparameteres using the test set, u risk overfitting the test set, and the generalization error u measure will be optimistic(u may launch a model that performs worse than u expect). that's why u should use validation set."
      ]
    }
  ],
  "metadata": {
    "language_info": {
      "name": "python"
    },
    "colab": {
      "provenance": [],
      "include_colab_link": true
    }
  },
  "nbformat": 4,
  "nbformat_minor": 0
}